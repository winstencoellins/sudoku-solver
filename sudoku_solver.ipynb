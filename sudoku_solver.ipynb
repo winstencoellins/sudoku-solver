{
 "cells": [
  {
   "cell_type": "code",
   "execution_count": 1,
   "metadata": {},
   "outputs": [],
   "source": [
    "board = [[5, 3, 0, 0, 7, 0, 0, 0, 0],\n",
    "[6, 0, 0, 1, 9, 5, 0, 0, 0],\n",
    "[0, 9, 8, 0, 0, 0, 0, 6, 0],\n",
    "[8, 0, 0, 0, 6, 0, 0, 0, 3],\n",
    "[4, 0, 0, 8, 0, 3, 0, 0, 1],\n",
    "[7, 0, 0, 0, 2, 0, 0, 0, 6],\n",
    "[0, 6, 0, 0, 0, 0, 2, 8, 0],\n",
    "[0, 0, 0, 4, 1, 9, 0, 0, 5],\n",
    "[0, 0, 0, 0, 8, 0, 0, 7, 9]]\n",
    "\n",
    "board1 = [[0, 0, 0, 2, 6, 0, 7, 0, 1],\n",
    "          [6, 8, 0, 0, 7, 0, 0, 9, 0],\n",
    "          [1, 9, 0, 0, 0, 4, 5, 0, 0],\n",
    "          [8, 2, 0, 1, 0, 0, 0, 4, 0],\n",
    "          [0, 0, 4, 6, 0, 2, 9, 0, 0],\n",
    "          [0, 5, 0, 0, 0, 3, 0, 2, 8],\n",
    "          [0, 0, 9, 3, 2, 6, 8, 7, 4],\n",
    "          [0, 4, 0, 0, 5, 0, 0, 3, 6],\n",
    "          [7, 0, 3, 0, 1, 8, 0, 0, 0]]"
   ]
  },
  {
   "cell_type": "code",
   "execution_count": 2,
   "metadata": {},
   "outputs": [],
   "source": [
    "def print_board(board):\n",
    "    for i in board:\n",
    "        row = \"\"\n",
    "        for j in i:\n",
    "            row += str(j) + \" \"\n",
    "        print(row)"
   ]
  },
  {
   "cell_type": "code",
   "execution_count": 3,
   "metadata": {},
   "outputs": [],
   "source": [
    "def find_zero(board):\n",
    "    for i in range(len(board)):\n",
    "        for j in range(len(board[i])):\n",
    "            if board[i][j] == 0:\n",
    "                return [i, j]\n",
    "    return None"
   ]
  },
  {
   "cell_type": "code",
   "execution_count": 4,
   "metadata": {},
   "outputs": [],
   "source": [
    "def is_valid(board, row, col, value):\n",
    "    # Checking rows\n",
    "    for i in range(9):\n",
    "        if board[row][i] == value:\n",
    "            return False\n",
    "        \n",
    "    # Checking cols\n",
    "    for i in range(9):\n",
    "        if board[i][col] == value:\n",
    "            return False\n",
    "    \n",
    "    # Checking every 3x3 grid\n",
    "    grid_row = row // 3\n",
    "    grid_col = col // 3\n",
    "    \n",
    "    for i in range(3):\n",
    "        for j in range(3):\n",
    "            if board[3*grid_row + i][3*grid_col + j] == value:\n",
    "                return False\n",
    "            \n",
    "    return True"
   ]
  },
  {
   "cell_type": "code",
   "execution_count": 5,
   "metadata": {},
   "outputs": [],
   "source": [
    "def solve(board):\n",
    "    find = find_zero(board)\n",
    "    \n",
    "    if find is None:\n",
    "        return board\n",
    "    \n",
    "    row = find[0]\n",
    "    col = find[1]\n",
    "    \n",
    "    for i in range(1, 10):\n",
    "        if is_valid(board, row, col, i) == True:\n",
    "            board[row][col] = i\n",
    "            solution = solve(board)\n",
    "            \n",
    "            if solution is not None:\n",
    "                return solution\n",
    "            \n",
    "            board[row][col] = 0\n",
    "            \n",
    "    return None"
   ]
  },
  {
   "cell_type": "code",
   "execution_count": 8,
   "metadata": {},
   "outputs": [
    {
     "name": "stdout",
     "output_type": "stream",
     "text": [
      "4 3 5 2 6 9 7 8 1 \n",
      "6 8 2 5 7 1 4 9 3 \n",
      "1 9 7 8 3 4 5 6 2 \n",
      "8 2 6 1 9 5 3 4 7 \n",
      "3 7 4 6 8 2 9 1 5 \n",
      "9 5 1 7 4 3 6 2 8 \n",
      "5 1 9 3 2 6 8 7 4 \n",
      "2 4 8 9 5 7 1 3 6 \n",
      "7 6 3 4 1 8 2 5 9 \n"
     ]
    }
   ],
   "source": [
    "# Hasil akhir\n",
    "print_board(solve(board1))"
   ]
  },
  {
   "cell_type": "code",
   "execution_count": null,
   "metadata": {},
   "outputs": [],
   "source": []
  }
 ],
 "metadata": {
  "kernelspec": {
   "display_name": "Python 3",
   "language": "python",
   "name": "python3"
  },
  "language_info": {
   "codemirror_mode": {
    "name": "ipython",
    "version": 3
   },
   "file_extension": ".py",
   "mimetype": "text/x-python",
   "name": "python",
   "nbconvert_exporter": "python",
   "pygments_lexer": "ipython3",
   "version": "3.8.5"
  }
 },
 "nbformat": 4,
 "nbformat_minor": 4
}
